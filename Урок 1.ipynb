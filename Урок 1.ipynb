{
 "cells": [
  {
   "cell_type": "code",
   "execution_count": 1,
   "id": "80762ba7",
   "metadata": {},
   "outputs": [],
   "source": [
    "import pandas as pd\n",
    "import seaborn as sns\n",
    "import numpy as np\n",
    "from scipy.stats import chisquare\n",
    "from scipy.stats import chi2\n",
    "from scipy.stats import chi2_contingency\n",
    "import random "
   ]
  },
  {
   "cell_type": "markdown",
   "id": "f497650e",
   "metadata": {},
   "source": [
    "# Хи квадрат Пирсона\n"
   ]
  },
  {
   "cell_type": "code",
   "execution_count": 42,
   "id": "6ce9fcff",
   "metadata": {},
   "outputs": [
    {
     "data": {
      "text/plain": [
       "2.62"
      ]
     },
     "execution_count": 42,
     "metadata": {},
     "output_type": "execute_result"
    }
   ],
   "source": [
    "# Хи квадрат\n",
    "o = np.array([18, 55, 27])\n",
    "e = np.array([25, 50, 25])\n",
    "sum((o - e) ** 2 / e)"
   ]
  },
  {
   "cell_type": "code",
   "execution_count": 44,
   "id": "9dd00ce5",
   "metadata": {},
   "outputs": [
    {
     "data": {
      "text/plain": [
       "Power_divergenceResult(statistic=2.62, pvalue=0.26982005638468687)"
      ]
     },
     "execution_count": 44,
     "metadata": {},
     "output_type": "execute_result"
    }
   ],
   "source": [
    "# Хи квадрат\n",
    "chisquare(o, f_exp=e)"
   ]
  },
  {
   "cell_type": "code",
   "execution_count": 48,
   "id": "07b90958",
   "metadata": {},
   "outputs": [
    {
     "data": {
      "text/plain": [
       "Power_divergenceResult(statistic=0.1941747572815534, pvalue=0.6594644811079884)"
      ]
     },
     "execution_count": 48,
     "metadata": {},
     "output_type": "execute_result"
    }
   ],
   "source": [
    "chisquare([1020, 1040], f_exp=[1030, 1030])"
   ]
  },
  {
   "cell_type": "code",
   "execution_count": 165,
   "id": "24365c22",
   "metadata": {},
   "outputs": [
    {
     "data": {
      "text/plain": [
       "<AxesSubplot:>"
      ]
     },
     "execution_count": 165,
     "metadata": {},
     "output_type": "execute_result"
    },
    {
     "data": {
      "image/png": "[encoded data removed]",
      "text/plain": [
       "<Figure size 864x576 with 1 Axes>"
      ]
     },
     "metadata": {
      "needs_background": "light"
     },
     "output_type": "display_data"
    }
   ],
   "source": [
    "plt.figure(figsize=(12,8))\n",
    "arr = []\n",
    "for j in range(10000):\n",
    "    res = [random.randint(0, 1) for i in range(100)]\n",
    "    o = [res.count(0), res.count(1)]\n",
    "    e = [ sum(o) // 2, sum(o) // 2]\n",
    "    arr.append(chisquare(o, f_exp=e)[0])\n",
    "sns.distplot(arr, bins=100, kde=False)"
   ]
  },
  {
   "cell_type": "code",
   "execution_count": 166,
   "id": "f890d567",
   "metadata": {},
   "outputs": [
    {
     "data": {
      "text/plain": [
       "0.04     1532\n",
       "0.16     1495\n",
       "0.36     1309\n",
       "0.64     1158\n",
       "1.00      967\n",
       "0.00      812\n",
       "1.44      779\n",
       "1.96      614\n",
       "2.56      446\n",
       "3.24      310\n",
       "4.00      232\n",
       "4.84      135\n",
       "5.76       74\n",
       "6.76       55\n",
       "7.84       32\n",
       "9.00       30\n",
       "10.24      11\n",
       "11.56       6\n",
       "16.00       1\n",
       "14.44       1\n",
       "12.96       1\n",
       "dtype: int64"
      ]
     },
     "execution_count": 166,
     "metadata": {},
     "output_type": "execute_result"
    }
   ],
   "source": [
    "pd.Series(arr).value_counts().sort_values(ascending=False)"
   ]
  },
  {
   "cell_type": "code",
   "execution_count": 167,
   "id": "dd147175",
   "metadata": {},
   "outputs": [
    {
     "data": {
      "text/plain": [
       "1.01"
      ]
     },
     "execution_count": 167,
     "metadata": {},
     "output_type": "execute_result"
    }
   ],
   "source": [
    "pd.Series(arr).mean().round(2)"
   ]
  },
  {
   "cell_type": "code",
   "execution_count": 157,
   "id": "a3fb0c7c",
   "metadata": {},
   "outputs": [
    {
     "data": {
      "text/plain": [
       "2.56"
      ]
     },
     "execution_count": 157,
     "metadata": {},
     "output_type": "execute_result"
    }
   ],
   "source": [
    "chisquare(o, f_exp=e).statistic"
   ]
  },
  {
   "cell_type": "code",
   "execution_count": 21,
   "id": "60a72aca",
   "metadata": {},
   "outputs": [
    {
     "data": {
      "text/plain": [
       "0.23254415793482974"
      ]
     },
     "execution_count": 21,
     "metadata": {},
     "output_type": "execute_result"
    }
   ],
   "source": [
    "# Считаем pvalue с помощью значения x2 и степеней свободы\n",
    "# stats.chi2.cdf(val, dof)\n",
    "# stats.chi2.sf(val, dof) (1 - cdf) Survival function точнее cdf\n",
    "\n",
    "a = chi2.sf(2, 2)\n",
    "b = chi2.sf(4, 2)\n",
    "a - b"
   ]
  },
  {
   "cell_type": "code",
   "execution_count": 178,
   "id": "31f16383",
   "metadata": {},
   "outputs": [
    {
     "data": {
      "text/plain": [
       "Power_divergenceResult(statistic=5.0, pvalue=0.4158801869955079)"
      ]
     },
     "execution_count": 178,
     "metadata": {},
     "output_type": "execute_result"
    }
   ],
   "source": [
    "chisquare([10,10,10,5,10,15 ], f_exp=[10 for i in range(6)])"
   ]
  },
  {
   "cell_type": "code",
   "execution_count": 183,
   "id": "89883522",
   "metadata": {},
   "outputs": [
    {
     "data": {
      "text/plain": [
       "26.7"
      ]
     },
     "execution_count": 183,
     "metadata": {},
     "output_type": "execute_result"
    }
   ],
   "source": [
    "chisquare([10, 30, 50], f_exp=[30, 30, 30]).statistic.round(1)"
   ]
  },
  {
   "cell_type": "code",
   "execution_count": 184,
   "id": "9b2fe913",
   "metadata": {},
   "outputs": [
    {
     "data": {
      "text/plain": [
       "0.22067136191984324"
      ]
     },
     "execution_count": 184,
     "metadata": {},
     "output_type": "execute_result"
    }
   ],
   "source": [
    "chisquare([15, 9], f_exp=[12, 12]).pvalue"
   ]
  },
  {
   "cell_type": "code",
   "execution_count": 187,
   "id": "edfaf1bc",
   "metadata": {},
   "outputs": [
    {
     "data": {
      "text/plain": [
       "0.02013675155034633"
      ]
     },
     "execution_count": 187,
     "metadata": {},
     "output_type": "execute_result"
    }
   ],
   "source": [
    "arr = [1500 * 0.53, 1500 * 0.47]\n",
    "chisquare(arr, f_exp=[750, 750]).pvalue"
   ]
  },
  {
   "cell_type": "code",
   "execution_count": 188,
   "id": "c5e8000a",
   "metadata": {},
   "outputs": [
    {
     "data": {
      "text/plain": [
       "15.216000000000001"
      ]
     },
     "execution_count": 188,
     "metadata": {},
     "output_type": "execute_result"
    }
   ],
   "source": [
    "24 * 0.634"
   ]
  },
  {
   "cell_type": "markdown",
   "id": "5ae125e0",
   "metadata": {},
   "source": [
    "# Анализ сопряженности таблиц"
   ]
  },
  {
   "cell_type": "code",
   "execution_count": 194,
   "id": "6c2cad53",
   "metadata": {},
   "outputs": [
    {
     "data": {
      "text/plain": [
       "(0.0,\n",
       " 1.0,\n",
       " 1,\n",
       " array([[15.2195122,  8.7804878],\n",
       "        [10.7804878,  6.2195122]]))"
      ]
     },
     "execution_count": 194,
     "metadata": {},
     "output_type": "execute_result"
    }
   ],
   "source": [
    "# Вычисление ожидаемых значений\n",
    "from scipy.stats import chi2_contingency\n",
    "sex_table = ([15,9], [11,6])\n",
    "chi2_contingency(sex_table)"
   ]
  },
  {
   "cell_type": "code",
   "execution_count": 195,
   "id": "57bb9302",
   "metadata": {},
   "outputs": [
    {
     "data": {
      "text/plain": [
       "Power_divergenceResult(statistic=2.62, pvalue=0.26982005638468687)"
      ]
     },
     "execution_count": 195,
     "metadata": {},
     "output_type": "execute_result"
    }
   ],
   "source": [
    "o = np.array([18, 55, 27])\n",
    "e = np.array([25, 50, 25])\n",
    "chisquare(o, f_exp=e)"
   ]
  },
  {
   "cell_type": "code",
   "execution_count": 8,
   "id": "ae443196",
   "metadata": {},
   "outputs": [
    {
     "data": {
      "text/plain": [
       "(0.0,\n",
       " 1.0,\n",
       " 1,\n",
       " array([[15.2195122,  8.7804878],\n",
       "        [10.7804878,  6.2195122]]))"
      ]
     },
     "execution_count": 8,
     "metadata": {},
     "output_type": "execute_result"
    }
   ],
   "source": [
    "# Вычисление 1: x2 statistic 2: p-value 3: dfx\n",
    "\n",
    "chi2_contingency([[15, 9], [11, 6]])"
   ]
  },
  {
   "cell_type": "code",
   "execution_count": 11,
   "id": "e05698de",
   "metadata": {},
   "outputs": [
    {
     "name": "stdout",
     "output_type": "stream",
     "text": [
      "Хи квадрат : 0.0\n",
      "P-value : 1.0\n",
      "deg of free : 1\n",
      "e_arr : [[15.2195122  8.7804878]\n",
      " [10.7804878  6.2195122]]\n",
      "\n"
     ]
    }
   ],
   "source": [
    "# Пример\n",
    "bio = [15, 9]\n",
    "inf = [11, 6]\n",
    "ch2_val, p_val, df, e_arr = chi2_contingency([bio, inf], correction=True)\n",
    "print(f'''Хи квадрат : {ch2_val}\n",
    "P-value : {p_val}\n",
    "deg of free : {df}\n",
    "e_arr : {e_arr}\n",
    "''')"
   ]
  },
  {
   "cell_type": "code",
   "execution_count": 15,
   "id": "613650f3",
   "metadata": {},
   "outputs": [
    {
     "name": "stdout",
     "output_type": "stream",
     "text": [
      "1\n",
      "[[15.2195122  8.7804878]\n",
      " [10.7804878  6.2195122]]\n",
      "0.0\n"
     ]
    }
   ],
   "source": [
    "from scipy.stats import chi2_contingency\n",
    "\n",
    "observed_values = [[15, 9], [11, 6]]\n",
    "chi2, p_value, ddof, expected = chi2_contingency(observed_values)\n",
    "\n",
    "print(ddof)  # степени свободы\n",
    "\n",
    "print(expected)  # ожидаемые значения\n",
    "print(chi2)  # Хи-квадрат"
   ]
  },
  {
   "cell_type": "markdown",
   "id": "fb98322b",
   "metadata": {},
   "source": [
    "# Задачи\n"
   ]
  },
  {
   "cell_type": "code",
   "execution_count": 16,
   "id": "0a660000",
   "metadata": {},
   "outputs": [
    {
     "data": {
      "text/plain": [
       "(0.9544070774762996,\n",
       " 0.6205162173513055,\n",
       " 2,\n",
       " array([[17.97297297, 17.02702703],\n",
       "        [11.81081081, 11.18918919],\n",
       "        [ 8.21621622,  7.78378378]]))"
      ]
     },
     "execution_count": 16,
     "metadata": {},
     "output_type": "execute_result"
    }
   ],
   "source": [
    "chi2_contingency([[20, 15], [11, 12], [7, 9]], correction=True)"
   ]
  },
  {
   "cell_type": "code",
   "execution_count": null,
   "id": "9cba6536",
   "metadata": {},
   "outputs": [],
   "source": []
  },
  {
   "cell_type": "code",
   "execution_count": 35,
   "id": "1fd998cd",
   "metadata": {},
   "outputs": [],
   "source": [
    "from statsmodels.graphics.mosaicplot import mosaic\n",
    "import matplotlib.pyplot as plt\n",
    "patients = pd.DataFrame({\"Thrombosis\": [\"Yes\",\"Yes\",\"Yes\",\"Yes\",\"Yes\",\"Yes\",\n",
    "                                        \"Yes\",\"Yes\",\"Yes\",\"Yes\",\"Yes\",\"Yes\",\n",
    "                                        \"Yes\",\"Yes\",\"Yes\",\"Yes\",\"Yes\",\"Yes\",\n",
    "                                        \"Yes\",\"Yes\",\"Yes\",\"Yes\",\"Yes\",\"Yes\",\n",
    "                                        \"No\",\"No\",\"No\",\"No\",\"No\",\"No\",\"No\",\n",
    "                                        \"No\",\"No\",\"No\",\"No\",\"No\",\"No\",\"No\",\n",
    "                                        \"No\",\"No\",\"No\",\"No\",\"No\",\"No\"], \n",
    "                         \"Group\": [\"Placebo\",\"Placebo\",\"Placebo\",\"Placebo\",\n",
    "                                   \"Placebo\",\"Placebo\",\"Placebo\",\"Placebo\",\n",
    "                                   \"Placebo\",\"Placebo\",\"Placebo\",\"Placebo\",\n",
    "                                   \"Placebo\",\"Placebo\",\"Placebo\",\"Placebo\",\n",
    "                                   \"Placebo\",\"Placebo\",\"Aspirin\",\"Aspirin\",\n",
    "                                   \"Aspirin\",\"Aspirin\",\"Aspirin\",\"Aspirin\",\n",
    "                                   \"Placebo\",\"Placebo\",\"Placebo\",\"Placebo\",\n",
    "                                   \"Placebo\",\"Placebo\",\"Placebo\",\"Aspirin\",\n",
    "                                   \"Aspirin\",\"Aspirin\",\"Aspirin\",\"Aspirin\",\n",
    "                                   \"Aspirin\",\"Aspirin\",\"Aspirin\",\"Aspirin\",\n",
    "                                   \"Aspirin\",\"Aspirin\",\"Aspirin\",\"Aspirin\"]})\n"
   ]
  },
  {
   "cell_type": "code",
   "execution_count": 54,
   "id": "fce6cb32",
   "metadata": {},
   "outputs": [
    {
     "data": {
      "image/png": "[encoded data removed]",
      "text/plain": [
       "<Figure size 432x288 with 3 Axes>"
      ]
     },
     "metadata": {
      "needs_background": "light"
     },
     "output_type": "display_data"
    }
   ],
   "source": [
    "#посмотрим на сводную таблицу пересечения признаков\n",
    "pivot = pd.pivot_table(patients, index=[\"Group\"], columns=[\"Thrombosis\"], aggfunc=lambda x: len(x))\n",
    "#обращаем внимание на stack() \n",
    "\n",
    "mosaic(pivot.stack())\n",
    "plt.show()"
   ]
  },
  {
   "cell_type": "code",
   "execution_count": 53,
   "id": "cbd70ca7",
   "metadata": {},
   "outputs": [
    {
     "data": {
      "text/plain": [
       "<Figure size 720x576 with 0 Axes>"
      ]
     },
     "metadata": {},
     "output_type": "display_data"
    },
    {
     "data": {
      "image/png": "[encoded data removed]",
      "text/plain": [
       "<Figure size 432x288 with 3 Axes>"
      ]
     },
     "metadata": {
      "needs_background": "light"
     },
     "output_type": "display_data"
    }
   ],
   "source": [
    "import pandas as pd\n",
    "from statsmodels.graphics.mosaicplot import mosaic\n",
    "\n",
    "tab = pd.DataFrame({\n",
    "    'Мужчины': [20, 11, 7],\n",
    "    'Женщины': [15, 12, 9]\n",
    "})\n",
    "\n",
    "tab.index = ('Тормозят', 'Притормаживают', 'Не тормозят')\n",
    "\n",
    "plt.figure(figsize=(10, 8))\n",
    "mosaic(tab.stack())\n",
    "plt.show()"
   ]
  },
  {
   "cell_type": "markdown",
   "id": "5ce23cfe",
   "metadata": {},
   "source": [
    "# Критерий Фишера\n"
   ]
  },
  {
   "cell_type": "code",
   "execution_count": 5,
   "id": "11bfe295",
   "metadata": {},
   "outputs": [],
   "source": [
    "from scipy import stats"
   ]
  },
  {
   "cell_type": "code",
   "execution_count": 6,
   "id": "8769c856",
   "metadata": {
    "scrolled": true
   },
   "outputs": [
    {
     "data": {
      "text/plain": [
       "(9.0, 0.48571428571428565)"
      ]
     },
     "execution_count": 6,
     "metadata": {},
     "output_type": "execute_result"
    }
   ],
   "source": [
    "# 1 возвр значение вероятность, 2 значение p_value \n",
    "stats.fisher_exact([[3,1], [1, 3]])"
   ]
  },
  {
   "cell_type": "markdown",
   "id": "70ec2dc9",
   "metadata": {},
   "source": [
    "# Задачи\n"
   ]
  },
  {
   "cell_type": "code",
   "execution_count": null,
   "id": "ca550341",
   "metadata": {},
   "outputs": [],
   "source": []
  },
  {
   "cell_type": "code",
   "execution_count": 89,
   "id": "f08643a9",
   "metadata": {},
   "outputs": [],
   "source": [
    "def nan_position(arr1, arr2):\n",
    "    df = pd.DataFrame({'x': arr1,\n",
    "                      'y': arr2})\n",
    "    return (df.x.isna() == df.y.isna()).all()"
   ]
  },
  {
   "cell_type": "code",
   "execution_count": 88,
   "id": "64da99b5",
   "metadata": {},
   "outputs": [
    {
     "data": {
      "text/plain": [
       "(True,\n",
       "      x    y\n",
       " 0  1.0  3.0\n",
       " 1  2.0  4.0\n",
       " 2  NaN  NaN)"
      ]
     },
     "execution_count": 88,
     "metadata": {},
     "output_type": "execute_result"
    }
   ],
   "source": [
    "nan_position([1, 2, None], [3, 4, None])"
   ]
  },
  {
   "cell_type": "code",
   "execution_count": 79,
   "id": "0c9f01b5",
   "metadata": {},
   "outputs": [
    {
     "data": {
      "text/plain": [
       "False"
      ]
     },
     "execution_count": 79,
     "metadata": {},
     "output_type": "execute_result"
    }
   ],
   "source": [
    "nan_position([None, 2, None], [3, 4, None])"
   ]
  },
  {
   "cell_type": "code",
   "execution_count": 80,
   "id": "7baf4e99",
   "metadata": {},
   "outputs": [
    {
     "data": {
      "text/plain": [
       "True"
      ]
     },
     "execution_count": 80,
     "metadata": {},
     "output_type": "execute_result"
    }
   ],
   "source": [
    "nan_position([1, 2, 3], [3, 4, 6])"
   ]
  },
  {
   "cell_type": "code",
   "execution_count": null,
   "id": "5fdb3920",
   "metadata": {},
   "outputs": [],
   "source": []
  }
 ],
 "metadata": {
  "kernelspec": {
   "display_name": "Python 3 (ipykernel)",
   "language": "python",
   "name": "python3"
  },
  "language_info": {
   "codemirror_mode": {
    "name": "ipython",
    "version": 3
   },
   "file_extension": ".py",
   "mimetype": "text/x-python",
   "name": "python",
   "nbconvert_exporter": "python",
   "pygments_lexer": "ipython3",
   "version": "3.10.5"
  }
 },
 "nbformat": 4,
 "nbformat_minor": 5
}
